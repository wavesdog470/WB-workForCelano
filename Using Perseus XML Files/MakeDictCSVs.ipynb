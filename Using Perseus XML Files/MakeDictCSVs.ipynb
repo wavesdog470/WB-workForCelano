{
 "cells": [
  {
   "cell_type": "code",
   "execution_count": 1,
   "metadata": {},
   "outputs": [
    {
     "name": "stdout",
     "output_type": "stream",
     "text": [
      "a)a/atos\n"
     ]
    }
   ],
   "source": [
    "#make the CSV for the lemmas DF \n",
    "import pandas as pd \n",
    "import xml.etree.ElementTree as ET\n",
    "\n",
    "bases_src = 'hib_lemmas.xml'\n",
    "\n",
    "tree = ET.parse(bases_src)\n",
    "root = tree.getroot()\n",
    "\n",
    "#make the stuff that will form the headers \n",
    "id = []\n",
    "text = []\n",
    "bare_text = []\n",
    "sequence_num = []\n",
    "lang_id = []\n",
    "definition = []\n",
    "print(root[0][1][0][1].text)\n",
    "#only add to CSV if latin -- no grk\n",
    "for row in root[0][1]:\n",
    "    if(row[4].text == \"3\"):\n",
    "        id.append(row[0].text)\n",
    "        text.append(row[1].text)\n",
    "        bare_text.append(row[2].text)\n",
    "        sequence_num.append(row[3].text)\n",
    "        lang_id.append(row[4].text)\n",
    "        definition.append(row[5].text)\n",
    " \n",
    "\n",
    "\n",
    "dict = {\"id\": id, \"text\":text,  \"bare_text\": bare_text, \"seqence_num\": sequence_num, \"lang_id\": lang_id, \"definition\": definition}\n",
    "dict2 = {\"id\": id, \"bare_text\": bare_text, \"definition\": definition}\n",
    "df = pd.DataFrame(dict)\n",
    "df2 = pd.DataFrame(dict2)\n",
    "df2.to_csv(\"lemmas_abr.csv\", sep = \"{\")\n",
    "df.to_csv(\"lemmas.csv\", sep = \"{\")"
   ]
  },
  {
   "attachments": {},
   "cell_type": "markdown",
   "metadata": {},
   "source": [
    "row[0] = id\n",
    "row[1] = text\n",
    "row[2] = bare-text\n",
    "row[3] = seq # \n",
    "row[4] = lang id -- 2 is grk; 3 is ltn\n",
    "row[5] = definition\n",
    "\n",
    "Delimiter cant be: ,;:\\/|?}[]() because of existance in files\n",
    "it CAN be { so that is what current delim is in CSV files \n",
    "\n"
   ]
  },
  {
   "attachments": {},
   "cell_type": "markdown",
   "metadata": {},
   "source": [
    "#test loading the CSVs"
   ]
  }
 ],
 "metadata": {
  "kernelspec": {
   "display_name": "Python 3",
   "language": "python",
   "name": "python3"
  },
  "language_info": {
   "codemirror_mode": {
    "name": "ipython",
    "version": 3
   },
   "file_extension": ".py",
   "mimetype": "text/x-python",
   "name": "python",
   "nbconvert_exporter": "python",
   "pygments_lexer": "ipython3",
   "version": "3.10.8"
  },
  "orig_nbformat": 4
 },
 "nbformat": 4,
 "nbformat_minor": 2
}
