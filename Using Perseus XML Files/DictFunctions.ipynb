{
 "cells": [
  {
   "cell_type": "code",
   "execution_count": 45,
   "metadata": {},
   "outputs": [],
   "source": [
    "#Creating the functiond\n",
    "import pandas as pd\n",
    "\n",
    "#load in the dataframes for functions\n",
    "lemmaDF = pd.read_csv(\"Dictionary_Dataframes/lemmas_abr.csv\", sep = \"{\")\n",
    "del lemmaDF['Unnamed: 0']\n",
    "parsesDF = pd.read_csv(\"Dictionary_Dataframes/parses_abr.csv\", sep = \"{\")\n",
    "del parsesDF[\"Unnamed: 0\"]\n",
    "#outputs list of matching IDs or an empty list\n",
    "def get_id(word):\n",
    "    #search the lemmaDF for the word\n",
    "    output = []\n",
    "    #this is the dataframe of all rows with the word\n",
    "    df = lemmaDF.loc[lemmaDF[\"bare_text\"] == word]\n",
    "        #iterrows works, but the others dont? ok whatever\n",
    "    for index, row in df.iterrows():\n",
    "        output.append(row[\"id\"])\n",
    "    return(output)\n",
    "#outouts dictionary of ids to the valid words \n",
    "def get_words_help(ids):\n",
    "    output = {}\n",
    "    if(type(ids) == list):\n",
    "        for id in ids:\n",
    "            curOut = []\n",
    "            df = parsesDF.loc[parsesDF[\"id\"] == id]\n",
    "            for index, row in df.iterrows():\n",
    "                #can add a checker for POS or add info about POS\n",
    "                curOut.append(row[\"bare_text\"])\n",
    "            output[id] = curOut\n",
    "        return output\n",
    "       #for each id in the list, grab all the words with matching ID from parses and put in \"outputs\"\n",
    "       #outputs is dict of ID --> parses with ID \n",
    "\n",
    "    else:\n",
    "        print(\"Something went wrong...\")\n",
    "        return {}\n",
    "def get_words(word):\n",
    "    temp = get_id(word)\n",
    "    out = get_words_help(temp)\n",
    "    return get_words_help(temp)\n",
    "    \n"
   ]
  },
  {
   "attachments": {},
   "cell_type": "markdown",
   "metadata": {},
   "source": [
    "Run block 1 to initialize functions in kernel\n",
    "\n",
    "get_words() - returns a list of all words with that FPP and all parses found of them"
   ]
  },
  {
   "cell_type": "code",
   "execution_count": 47,
   "metadata": {},
   "outputs": [
    {
     "name": "stdout",
     "output_type": "stream",
     "text": [
      "{48234: ['perincommode', 'perincommode', 'perincommode', 'perincommodus']}\n"
     ]
    }
   ],
   "source": [
    "#check if the code runs in another block\n",
    "# print(get_id(\"mater\"))\n",
    "# print(get_words_help([46163]))\n",
    "print(get_words(\"perincommodus\"))"
   ]
  },
  {
   "attachments": {},
   "cell_type": "markdown",
   "metadata": {},
   "source": []
  }
 ],
 "metadata": {
  "kernelspec": {
   "display_name": "Python 3",
   "language": "python",
   "name": "python3"
  },
  "language_info": {
   "codemirror_mode": {
    "name": "ipython",
    "version": 3
   },
   "file_extension": ".py",
   "mimetype": "text/x-python",
   "name": "python",
   "nbconvert_exporter": "python",
   "pygments_lexer": "ipython3",
   "version": "3.10.8"
  },
  "orig_nbformat": 4
 },
 "nbformat": 4,
 "nbformat_minor": 2
}
