{
 "cells": [
  {
   "cell_type": "code",
   "execution_count": null,
   "metadata": {},
   "outputs": [],
   "source": []
  },
  {
   "cell_type": "code",
   "execution_count": 7,
   "metadata": {},
   "outputs": [
    {
     "name": "stdout",
     "output_type": "stream",
     "text": [
      "do the function\n"
     ]
    }
   ],
   "source": [
    "#Creating the functiond\n",
    "import pandas as pd\n",
    "\n",
    "#load in the dataframes for functions\n",
    "lemmaDF = pd.read_csv(\"Dictionary_Dataframes/lemmas_abr.csv\", sep = \"{\")\n",
    "del lemmaDF['Unnamed: 0']\n",
    "parsesDF = pd.read_csv(\"Dictionary_Dataframes/parses_abr.csv\", sep = \"{\")\n",
    "del parsesDF[\"Unnamed: 0\"]\n",
    "\n",
    "def get_id(word):\n",
    "    #search the lemmaDF for the word\n",
    "    print(\"do the function\")\n",
    "get_id(\"mater\")\n"
   ]
  }
 ],
 "metadata": {
  "kernelspec": {
   "display_name": "Python 3",
   "language": "python",
   "name": "python3"
  },
  "language_info": {
   "codemirror_mode": {
    "name": "ipython",
    "version": 3
   },
   "file_extension": ".py",
   "mimetype": "text/x-python",
   "name": "python",
   "nbconvert_exporter": "python",
   "pygments_lexer": "ipython3",
   "version": "3.10.8"
  },
  "orig_nbformat": 4
 },
 "nbformat": 4,
 "nbformat_minor": 2
}
